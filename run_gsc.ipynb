{
 "metadata": {
  "language_info": {
   "codemirror_mode": {
    "name": "ipython",
    "version": 3
   },
   "file_extension": ".py",
   "mimetype": "text/x-python",
   "name": "python",
   "nbconvert_exporter": "python",
   "pygments_lexer": "ipython3",
   "version": "3.9.2-final"
  },
  "orig_nbformat": 2,
  "kernelspec": {
   "name": "python3",
   "display_name": "Python 3.9.2 64-bit ('venv')",
   "metadata": {
    "interpreter": {
     "hash": "c180dad54ba6804738f5b6468b242e58e1dae9c84ef689489b17f73c13daf241"
    }
   }
  }
 },
 "nbformat": 4,
 "nbformat_minor": 2,
 "cells": [
  {
   "cell_type": "markdown",
   "metadata": {},
   "source": [
    "# Google Search Console API (With Python)\n",
    "author:    Jean-Christophe Chouinard\n",
    "\n",
    "Role:      Sr. SEO Specialist at SEEK.com.au\n",
    "\n",
    "Website:   [jcchouinard.com](https://www.jcchouinard.com/)\n",
    "\n",
    "LinkedIn:  [linkedin.com/in/jeanchristophechouinard/](https://www.linkedin.com/in/jeanchristophechouinard/)\n",
    "\n",
    "Twitter:   [twitter.com/@ChouinardJC](https://twitter.com/ChouinardJC)"
   ]
  },
  {
   "cell_type": "markdown",
   "metadata": {},
   "source": [
    "## Get Started\n",
    "\n",
    "\n",
    "[jcchouinard.com/intro-to-gsc-api-with-python/](https://www.jcchouinard.com/intro-to-gsc-api-with-python/)\n",
    "\n",
    "### Clone Github Repository\n",
    "`$ git clone https://github.com/jcchouinard/GoogleSearchConsole-Tutorial.git`\n",
    "\n",
    "### Install Requirements\n",
    "`pip install -r requirements.txt`\n",
    "\n",
    "### Learn Python for SEO\n",
    "[jcchouinard.com/python-for-seo](https://www.jcchouinard.com/python-for-seo)\n",
    "\n",
    "### Get API Keys\n",
    "[jcchouinard.com/how-to-get-google-search-console-api-keys/](https://www.jcchouinard.com/how-to-get-google-search-console-api-keys/)\n",
    "\n",
    "### How to format your request\n",
    "[jcchouinard.com/what-is-google-search-console-api/](https://www.jcchouinard.com/what-is-google-search-console-api/)\n",
    "\n",
    "## Why Use The Google Search Console API?\n",
    "\n",
    "Google limits the amount of data they report to the user. \n",
    "\n",
    "In the search performance report, you can only see **1000 rows** and **16 months** of data.\n",
    "\n",
    "With GSC UI, it is also not possible to get **keywords per page** as they are reported in separate pages.\n",
    "\n",
    "The Google Search Console API lets you extract a lot more than 1000 rows of data."
   ]
  },
  {
   "cell_type": "code",
   "execution_count": 1,
   "metadata": {
    "tags": []
   },
   "outputs": [],
   "source": [
    "creds = 'client_secrets.json'\n",
    "# https://www.jcchouinard.com/google-api/\n",
    "\n",
    "site = 'https://www.stylespafurniture.com/'\n",
    "start_date = '2020-07-15' \n",
    "end_date = '2020-07-25' # Default: 3d in past\n",
    "output = 'gsc_data.csv'"
   ]
  },
  {
   "source": [
    "## Authorize Your Credentials"
   ],
   "cell_type": "code",
   "metadata": {},
   "execution_count": 2,
   "outputs": []
  },
  {
   "cell_type": "code",
   "execution_count": 3,
   "metadata": {
    "tags": []
   },
   "outputs": [
    {
     "output_type": "stream",
     "name": "stdout",
     "text": [
      "Authorizing Creds\n",
      "Auth Successful\n"
     ]
    }
   ],
   "source": [
    "from oauth import authorize_creds\n",
    "\n",
    "webmasters_service = authorize_creds(creds)"
   ]
  },
  {
   "cell_type": "markdown",
   "metadata": {},
   "source": [
    "## Extract GSC Data by URL"
   ]
  },
  {
   "cell_type": "code",
   "execution_count": 4,
   "metadata": {},
   "outputs": [],
   "source": [
    "from gsc_by_url import gsc_by_url\n",
    "\n",
    "list_of_urls = [\n",
    "  \n",
    "'shop/',\t\n",
    "'cart/',\n",
    "'privacy-policy/',\n",
    "'cancellation-return-policy/',\t\n",
    "'shipping-policy/',\n",
    "'terms-of-sale/'\t\n",
    "\n",
    "    ]\n",
    "\n",
    "list_of_urls = [site + x for x in list_of_urls]\n",
    "\n",
    "args = webmasters_service,site,list_of_urls,creds,start_date,end_date\n",
    "\n",
    "gsc_by_url(*args)"
   ]
  },
  {
   "cell_type": "markdown",
   "metadata": {},
   "source": [
    "## Extract Filtered Data from Google Search Console\n",
    "\n",
    "Possible combinations:\n",
    "\n",
    "Dimension: query, page.\n",
    "\n",
    "Operator: contains, equals, notEquals, notContains\n"
   ]
  },
  {
   "cell_type": "code",
   "execution_count": 5,
   "metadata": {
    "tags": []
   },
   "outputs": [
    {
     "output_type": "execute_result",
     "data": {
      "text/plain": [
       "            date                                               page  \\\n",
       "0     2020-07-16  https://www.stylespafurniture.com/product-cate...   \n",
       "1     2020-07-18  https://www.stylespafurniture.com/product-cate...   \n",
       "2     2020-07-25  https://www.stylespafurniture.com/product-cate...   \n",
       "3     2020-07-18                 https://www.stylespafurniture.com/   \n",
       "4     2020-07-18  https://www.stylespafurniture.com/product-cate...   \n",
       "...          ...                                                ...   \n",
       "2222  2020-07-25            https://www.stylespafurniture.com/shop/   \n",
       "2223  2020-07-25            https://www.stylespafurniture.com/shop/   \n",
       "2224  2020-07-25   https://www.stylespafurniture.com/store-locator/   \n",
       "2225  2020-07-25   https://www.stylespafurniture.com/store-locator/   \n",
       "2226  2020-07-25   https://www.stylespafurniture.com/store-locator/   \n",
       "\n",
       "                    query  position  clicks       ctr  impressions  \n",
       "0          style spa beds  1.444444       4  0.444444            9  \n",
       "1            stylespa bed  2.444444       4  0.444444            9  \n",
       "2            stylespa bed  3.666667       4  0.333333           12  \n",
       "3            stylespa bed  3.444444       3  0.333333            9  \n",
       "4           style spa bed  4.750000       3  0.375000            8  \n",
       "...                   ...       ...     ...       ...          ...  \n",
       "2222  style spa bed price  3.000000       0  0.000000            2  \n",
       "2223         stylespa bed  4.818182       0  0.000000           11  \n",
       "2224              spa bed  9.000000       0  0.000000            3  \n",
       "2225        style spa bed  5.500000       0  0.000000            2  \n",
       "2226         stylespa bed  5.200000       0  0.000000           10  \n",
       "\n",
       "[2227 rows x 7 columns]"
      ],
      "text/html": "<div>\n<style scoped>\n    .dataframe tbody tr th:only-of-type {\n        vertical-align: middle;\n    }\n\n    .dataframe tbody tr th {\n        vertical-align: top;\n    }\n\n    .dataframe thead th {\n        text-align: right;\n    }\n</style>\n<table border=\"1\" class=\"dataframe\">\n  <thead>\n    <tr style=\"text-align: right;\">\n      <th></th>\n      <th>date</th>\n      <th>page</th>\n      <th>query</th>\n      <th>position</th>\n      <th>clicks</th>\n      <th>ctr</th>\n      <th>impressions</th>\n    </tr>\n  </thead>\n  <tbody>\n    <tr>\n      <th>0</th>\n      <td>2020-07-16</td>\n      <td>https://www.stylespafurniture.com/product-cate...</td>\n      <td>style spa beds</td>\n      <td>1.444444</td>\n      <td>4</td>\n      <td>0.444444</td>\n      <td>9</td>\n    </tr>\n    <tr>\n      <th>1</th>\n      <td>2020-07-18</td>\n      <td>https://www.stylespafurniture.com/product-cate...</td>\n      <td>stylespa bed</td>\n      <td>2.444444</td>\n      <td>4</td>\n      <td>0.444444</td>\n      <td>9</td>\n    </tr>\n    <tr>\n      <th>2</th>\n      <td>2020-07-25</td>\n      <td>https://www.stylespafurniture.com/product-cate...</td>\n      <td>stylespa bed</td>\n      <td>3.666667</td>\n      <td>4</td>\n      <td>0.333333</td>\n      <td>12</td>\n    </tr>\n    <tr>\n      <th>3</th>\n      <td>2020-07-18</td>\n      <td>https://www.stylespafurniture.com/</td>\n      <td>stylespa bed</td>\n      <td>3.444444</td>\n      <td>3</td>\n      <td>0.333333</td>\n      <td>9</td>\n    </tr>\n    <tr>\n      <th>4</th>\n      <td>2020-07-18</td>\n      <td>https://www.stylespafurniture.com/product-cate...</td>\n      <td>style spa bed</td>\n      <td>4.750000</td>\n      <td>3</td>\n      <td>0.375000</td>\n      <td>8</td>\n    </tr>\n    <tr>\n      <th>...</th>\n      <td>...</td>\n      <td>...</td>\n      <td>...</td>\n      <td>...</td>\n      <td>...</td>\n      <td>...</td>\n      <td>...</td>\n    </tr>\n    <tr>\n      <th>2222</th>\n      <td>2020-07-25</td>\n      <td>https://www.stylespafurniture.com/shop/</td>\n      <td>style spa bed price</td>\n      <td>3.000000</td>\n      <td>0</td>\n      <td>0.000000</td>\n      <td>2</td>\n    </tr>\n    <tr>\n      <th>2223</th>\n      <td>2020-07-25</td>\n      <td>https://www.stylespafurniture.com/shop/</td>\n      <td>stylespa bed</td>\n      <td>4.818182</td>\n      <td>0</td>\n      <td>0.000000</td>\n      <td>11</td>\n    </tr>\n    <tr>\n      <th>2224</th>\n      <td>2020-07-25</td>\n      <td>https://www.stylespafurniture.com/store-locator/</td>\n      <td>spa bed</td>\n      <td>9.000000</td>\n      <td>0</td>\n      <td>0.000000</td>\n      <td>3</td>\n    </tr>\n    <tr>\n      <th>2225</th>\n      <td>2020-07-25</td>\n      <td>https://www.stylespafurniture.com/store-locator/</td>\n      <td>style spa bed</td>\n      <td>5.500000</td>\n      <td>0</td>\n      <td>0.000000</td>\n      <td>2</td>\n    </tr>\n    <tr>\n      <th>2226</th>\n      <td>2020-07-25</td>\n      <td>https://www.stylespafurniture.com/store-locator/</td>\n      <td>stylespa bed</td>\n      <td>5.200000</td>\n      <td>0</td>\n      <td>0.000000</td>\n      <td>10</td>\n    </tr>\n  </tbody>\n</table>\n<p>2227 rows × 7 columns</p>\n</div>"
     },
     "metadata": {},
     "execution_count": 5
    }
   ],
   "source": [
    "from gsc_with_filters import gsc_with_filters\n",
    "\n",
    "# Filters\n",
    "dimension = 'query' \n",
    "operator = 'contains'\n",
    "expression = 'bed'\n",
    "args = webmasters_service,site,creds,dimension,operator,expression,start_date,end_date\n",
    "\n",
    "gsc_with_filters(*args,rowLimit=5000)"
   ]
  },
  {
   "cell_type": "markdown",
   "metadata": {},
   "source": [
    "## Extract 100% of the data from Google Search Console\n",
    "\n",
    "What the script does?\n",
    "\n",
    "1. Creates an output folder if it does not exist using my site.\n",
    "\n",
    "2. Checks output folder if dates are already extracted.\n",
    "\n",
    "3. Dates that are already extracted are skipped.\n",
    "\n",
    "4. Day by day, it requests lines by batch of 25K.\n",
    "\n",
    "5. It iterates until all lines are extracted for that day.\n",
    "\n",
    "6. New dates are appended to the existing CSV"
   ]
  },
  {
   "cell_type": "code",
   "execution_count": 16,
   "metadata": {
    "tags": []
   },
   "outputs": [
    {
     "output_type": "stream",
     "name": "stdout",
     "text": [
      "gsc_to_csv gz: False\n",
      "www_stylespafurniture_com project exists\n",
      "Checking CSVs in www_stylespafurniture_com/\n",
      "No CSV to read\n",
      "Done extracting DF from CSVs\n",
      "Start date at beginning: 2020-07-15 00:00:00\n",
      "date = 2020-07-15\n",
      "successful at 0\n",
      "Numrows at the start of loop: 0\n",
      "Numrows at the end of loop: 1333\n",
      "Start date at beginning: 2020-07-16 00:00:00\n",
      "date = 2020-07-16\n",
      "successful at 0\n",
      "Numrows at the start of loop: 0\n",
      "Numrows at the end of loop: 1331\n",
      "Start date at beginning: 2020-07-17 00:00:00\n",
      "date = 2020-07-17\n",
      "successful at 0\n",
      "Numrows at the start of loop: 0\n",
      "Numrows at the end of loop: 1355\n",
      "Start date at beginning: 2020-07-18 00:00:00\n",
      "date = 2020-07-18\n",
      "successful at 0\n",
      "Numrows at the start of loop: 0\n",
      "Numrows at the end of loop: 1380\n",
      "Start date at beginning: 2020-07-19 00:00:00\n",
      "date = 2020-07-19\n",
      "successful at 0\n",
      "Numrows at the start of loop: 0\n",
      "Numrows at the end of loop: 1407\n",
      "Start date at beginning: 2020-07-20 00:00:00\n",
      "date = 2020-07-20\n",
      "successful at 0\n",
      "Numrows at the start of loop: 0\n",
      "Numrows at the end of loop: 1395\n",
      "Start date at beginning: 2020-07-21 00:00:00\n",
      "date = 2020-07-21\n",
      "successful at 0\n",
      "Numrows at the start of loop: 0\n",
      "Numrows at the end of loop: 1441\n",
      "Start date at beginning: 2020-07-22 00:00:00\n",
      "date = 2020-07-22\n",
      "successful at 0\n",
      "Numrows at the start of loop: 0\n",
      "Numrows at the end of loop: 1527\n",
      "Start date at beginning: 2020-07-23 00:00:00\n",
      "date = 2020-07-23\n",
      "successful at 0\n",
      "Numrows at the start of loop: 0\n",
      "Numrows at the end of loop: 1518\n",
      "Start date at beginning: 2020-07-24 00:00:00\n",
      "date = 2020-07-24\n",
      "successful at 0\n",
      "Numrows at the start of loop: 0\n",
      "Numrows at the end of loop: 1348\n",
      "Start date at beginning: 2020-07-25 00:00:00\n",
      "date = 2020-07-25\n",
      "successful at 0\n",
      "Numrows at the start of loop: 0\n",
      "Numrows at the end of loop: 1994\n",
      "Done extracting https://www.stylespafurniture.com/\n"
     ]
    }
   ],
   "source": [
    "from gsc_to_csv_by_month import gsc_to_csv\n",
    "\n",
    "args = webmasters_service,site,output,creds,start_date\n",
    "gsc_to_csv(*args,end_date=end_date)"
   ]
  },
  {
   "cell_type": "markdown",
   "metadata": {},
   "source": [
    "### Extract up to the Latest Available Date\n",
    "Leave `end_date` empty to extract up to the latest possible date. By default `end_date` is set to three days in the past."
   ]
  },
  {
   "cell_type": "code",
   "execution_count": null,
   "metadata": {
    "tags": []
   },
   "outputs": [],
   "source": [
    "from gsc_to_csv_by_month import gsc_to_csv\n",
    "\n",
    "args = webmasters_service,site,output,creds,start_date\n",
    "gsc_to_csv(*args)"
   ]
  },
  {
   "cell_type": "markdown",
   "metadata": {},
   "source": [
    "### Enable Compression with the Optional gz Parameter\n",
    "By default `gz` is set to `False`."
   ]
  },
  {
   "cell_type": "code",
   "execution_count": null,
   "metadata": {
    "tags": []
   },
   "outputs": [],
   "source": [
    "from gsc_to_csv_by_month import gsc_to_csv\n",
    "\n",
    "start_date = '2020-07-15' \n",
    "end_date = '2020-07-25' \n",
    "args = webmasters_service,site,output,creds,start_date\n",
    "gsc_to_csv(*args,end_date=end_date,gz=True)"
   ]
  },
  {
   "cell_type": "markdown",
   "metadata": {},
   "source": [
    "## SEO Analysis"
   ]
  },
  {
   "cell_type": "markdown",
   "metadata": {},
   "source": [
    "## Branded VS Non-Branded"
   ]
  },
  {
   "cell_type": "code",
   "execution_count": null,
   "metadata": {},
   "outputs": [],
   "source": [
    "import matplotlib.pyplot as plt\n",
    "import pandas as pd"
   ]
  },
  {
   "cell_type": "code",
   "execution_count": null,
   "metadata": {
    "tags": []
   },
   "outputs": [],
   "source": [
    "from file_manip import csvs_to_df\n",
    "\n",
    "site = 'https://www.jcchouinard.com'\n",
    "filename = 'gsc_data.csv'\n",
    "\n",
    "df = csvs_to_df(site,filename,start_date,gz=False)\n",
    "print(df.shape)\n",
    "df.head()"
   ]
  },
  {
   "cell_type": "code",
   "execution_count": null,
   "metadata": {},
   "outputs": [],
   "source": [
    "r = r'.*python.*'\n",
    "df['query_type'] = ''\n",
    "df['query_type'][df['query'].str.contains(r,regex=True)] = 'Python'\n",
    "df['query_type'][~df['query'].str.contains(r,regex=True)] = 'Not-Python'\n",
    "df['query_type'].head()"
   ]
  },
  {
   "cell_type": "code",
   "execution_count": null,
   "metadata": {},
   "outputs": [],
   "source": [
    "df = df.groupby(['date','query_type'])['clicks'].sum().reset_index()\n",
    "df.head()"
   ]
  },
  {
   "cell_type": "code",
   "execution_count": null,
   "metadata": {},
   "outputs": [],
   "source": [
    "df = df.set_index(['date','query_type'])['clicks'].unstack()\n",
    "df.head()"
   ]
  },
  {
   "cell_type": "code",
   "execution_count": null,
   "metadata": {},
   "outputs": [],
   "source": [
    "df = df.reset_index().rename_axis(None, axis=1)\n",
    "df.head()"
   ]
  },
  {
   "cell_type": "code",
   "execution_count": null,
   "metadata": {},
   "outputs": [],
   "source": [
    "from file_manip import date_to_index\n",
    "\n",
    "df = date_to_index(df,'date')\n",
    "df.head()"
   ]
  },
  {
   "cell_type": "code",
   "execution_count": null,
   "metadata": {},
   "outputs": [],
   "source": [
    "df.plot(subplots=True,\n",
    "        sharex=True,\n",
    "        figsize=(6,6))\n",
    "plt.title('Python VS Non-python Related Keywords')\n",
    "plt.xlabel('Date')\n",
    "plt.ylabel('Clicks')\n",
    "plt.show()"
   ]
  },
  {
   "cell_type": "markdown",
   "metadata": {},
   "source": [
    "## Rankings"
   ]
  },
  {
   "cell_type": "code",
   "execution_count": 17,
   "metadata": {
    "tags": []
   },
   "outputs": [
    {
     "output_type": "error",
     "ename": "NameError",
     "evalue": "name 'filename' is not defined",
     "traceback": [
      "\u001b[1;31m---------------------------------------------------------------------------\u001b[0m",
      "\u001b[1;31mNameError\u001b[0m                                 Traceback (most recent call last)",
      "\u001b[1;32m<ipython-input-17-05b9708fe417>\u001b[0m in \u001b[0;36m<module>\u001b[1;34m\u001b[0m\n\u001b[0;32m      1\u001b[0m \u001b[1;32mfrom\u001b[0m \u001b[0mfile_manip\u001b[0m \u001b[1;32mimport\u001b[0m \u001b[0mcsvs_to_df\u001b[0m\u001b[1;33m\u001b[0m\u001b[1;33m\u001b[0m\u001b[0m\n\u001b[0;32m      2\u001b[0m \u001b[1;33m\u001b[0m\u001b[0m\n\u001b[1;32m----> 3\u001b[1;33m \u001b[0mdf\u001b[0m \u001b[1;33m=\u001b[0m \u001b[0mcsvs_to_df\u001b[0m\u001b[1;33m(\u001b[0m\u001b[0msite\u001b[0m\u001b[1;33m,\u001b[0m\u001b[0mfilename\u001b[0m\u001b[1;33m,\u001b[0m\u001b[0mstart_date\u001b[0m\u001b[1;33m,\u001b[0m\u001b[0mgz\u001b[0m\u001b[1;33m=\u001b[0m\u001b[1;32mFalse\u001b[0m\u001b[1;33m)\u001b[0m\u001b[1;33m\u001b[0m\u001b[1;33m\u001b[0m\u001b[0m\n\u001b[0m\u001b[0;32m      4\u001b[0m \u001b[0mdf\u001b[0m\u001b[1;33m[\u001b[0m\u001b[1;34m'ranking'\u001b[0m\u001b[1;33m]\u001b[0m \u001b[1;33m=\u001b[0m \u001b[1;34m'Page 2, Pos 15+'\u001b[0m\u001b[1;33m\u001b[0m\u001b[1;33m\u001b[0m\u001b[0m\n\u001b[0;32m      5\u001b[0m \u001b[0mdf\u001b[0m\u001b[1;33m[\u001b[0m\u001b[1;34m'ranking'\u001b[0m\u001b[1;33m]\u001b[0m\u001b[1;33m[\u001b[0m\u001b[0mdf\u001b[0m\u001b[1;33m[\u001b[0m\u001b[1;34m'position'\u001b[0m\u001b[1;33m]\u001b[0m \u001b[1;33m<=\u001b[0m \u001b[1;36m3\u001b[0m\u001b[1;33m]\u001b[0m \u001b[1;33m=\u001b[0m \u001b[1;34m'Page 1, Pos 1-3'\u001b[0m\u001b[1;33m\u001b[0m\u001b[1;33m\u001b[0m\u001b[0m\n",
      "\u001b[1;31mNameError\u001b[0m: name 'filename' is not defined"
     ]
    }
   ],
   "source": [
    "from file_manip import csvs_to_df\n",
    "\n",
    "df = csvs_to_df(site,filename,start_date,gz=False)\n",
    "df['ranking'] = 'Page 2, Pos 15+'\n",
    "df['ranking'][df['position'] <= 3] = 'Page 1, Pos 1-3'\n",
    "df['ranking'][(df['position'] > 3) & (df['position'] <= 7)] = 'Page 1, Pos 4-7'\n",
    "df['ranking'][(df['position'] > 7) & (df['position'] <= 10)] = 'Page 1, Pos 8-10'\n",
    "df['ranking'][(df['position'] > 10) & (df['position'] <= 14)] = 'Page 2, Pos 11-14'\n",
    "df.head()"
   ]
  },
  {
   "cell_type": "markdown",
   "metadata": {},
   "source": [
    "### Clicks by position"
   ]
  },
  {
   "cell_type": "code",
   "execution_count": 18,
   "metadata": {},
   "outputs": [
    {
     "output_type": "error",
     "ename": "ModuleNotFoundError",
     "evalue": "No module named 'plotly'",
     "traceback": [
      "\u001b[1;31m---------------------------------------------------------------------------\u001b[0m",
      "\u001b[1;31mModuleNotFoundError\u001b[0m                       Traceback (most recent call last)",
      "\u001b[1;32m<ipython-input-18-502c139465ca>\u001b[0m in \u001b[0;36m<module>\u001b[1;34m\u001b[0m\n\u001b[1;32m----> 1\u001b[1;33m \u001b[1;32mimport\u001b[0m \u001b[0mplotly\u001b[0m\u001b[1;33m.\u001b[0m\u001b[0mexpress\u001b[0m \u001b[1;32mas\u001b[0m \u001b[0mpx\u001b[0m\u001b[1;33m\u001b[0m\u001b[1;33m\u001b[0m\u001b[0m\n\u001b[0m\u001b[0;32m      2\u001b[0m \u001b[1;33m\u001b[0m\u001b[0m\n\u001b[0;32m      3\u001b[0m \u001b[0mplot_df\u001b[0m \u001b[1;33m=\u001b[0m \u001b[0mdf\u001b[0m\u001b[1;33m.\u001b[0m\u001b[0mgroupby\u001b[0m\u001b[1;33m(\u001b[0m\u001b[1;33m[\u001b[0m\u001b[1;34m'date'\u001b[0m\u001b[1;33m,\u001b[0m\u001b[1;34m'ranking'\u001b[0m\u001b[1;33m]\u001b[0m\u001b[1;33m)\u001b[0m\u001b[1;33m.\u001b[0m\u001b[0magg\u001b[0m\u001b[1;33m(\u001b[0m\u001b[1;33m{\u001b[0m\u001b[1;34m'query'\u001b[0m\u001b[1;33m:\u001b[0m\u001b[1;34m'count'\u001b[0m\u001b[1;33m,\u001b[0m\u001b[1;34m'clicks'\u001b[0m\u001b[1;33m:\u001b[0m\u001b[1;34m'sum'\u001b[0m\u001b[1;33m}\u001b[0m\u001b[1;33m)\u001b[0m\u001b[1;33m.\u001b[0m\u001b[0mreset_index\u001b[0m\u001b[1;33m(\u001b[0m\u001b[1;33m)\u001b[0m\u001b[1;33m\u001b[0m\u001b[1;33m\u001b[0m\u001b[0m\n\u001b[0;32m      4\u001b[0m \u001b[1;33m\u001b[0m\u001b[0m\n\u001b[0;32m      5\u001b[0m fig = px.area(plot_df, x='date', y='clicks', color='ranking', line_group='ranking', hover_name='ranking',\n",
      "\u001b[1;31mModuleNotFoundError\u001b[0m: No module named 'plotly'"
     ]
    }
   ],
   "source": [
    "import plotly.express as px\n",
    "\n",
    "plot_df = df.groupby(['date','ranking']).agg({'query':'count','clicks':'sum'}).reset_index()\n",
    "\n",
    "fig = px.area(plot_df, x='date', y='clicks', color='ranking', line_group='ranking', hover_name='ranking',\n",
    "        line_shape='spline')\n",
    "fig.update_layout(\n",
    "        title=\"Number of Clicks by Avg Position\",\n",
    "        yaxis_title=\"Number of Clicks\")\n",
    "fig.show()"
   ]
  },
  {
   "cell_type": "markdown",
   "metadata": {},
   "source": [
    "### Number of Queries by Position"
   ]
  },
  {
   "cell_type": "code",
   "execution_count": null,
   "metadata": {},
   "outputs": [],
   "source": [
    "import plotly.express as px\n",
    "\n",
    "plot_df = df.groupby(['date','ranking']).agg({'query':'count','clicks':'sum'}).reset_index()\n",
    "\n",
    "fig = px.area(plot_df, x='date', y='query', color='ranking', line_group='ranking', hover_name='ranking',\n",
    "        line_shape='spline')\n",
    "fig.update_layout(\n",
    "        title=\"Number of Queries by Avg Position\",\n",
    "        yaxis_title=\"Number of Queries\")\n",
    "fig.show()"
   ]
  },
  {
   "cell_type": "code",
   "execution_count": null,
   "metadata": {
    "tags": []
   },
   "outputs": [],
   "source": [
    "plot_df = df.groupby(['date']).agg({'query':'count','clicks':'sum'}).reset_index()\n",
    "\n",
    "fig = px.line(plot_df, x='date', y=['query','clicks'])\n",
    "fig.update_layout(\n",
    "        title=\"Number of Queries vs Clicks\")\n",
    "fig.show()"
   ]
  },
  {
   "cell_type": "code",
   "execution_count": null,
   "metadata": {},
   "outputs": [],
   "source": []
  }
 ]
}